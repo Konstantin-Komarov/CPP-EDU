{
  "nbformat": 4,
  "nbformat_minor": 0,
  "metadata": {
    "colab": {
      "provenance": []
    },
    "kernelspec": {
      "name": "python3",
      "display_name": "Python 3"
    },
    "language_info": {
      "name": "python"
    }
  },
  "cells": [
    {
      "cell_type": "code",
      "source": [
        "#include <iostream>\n",
        "#include <vector> \n",
        "\n",
        "using namespace std;\n",
        "int sum;\n",
        "int main() {\n",
        "    setlocale(LC_ALL, \"ru\");\n",
        "    int h, b;\n",
        "    cout << \"Значение первого вектора: \";\n",
        "    cin >> h;\n",
        "    cout << \"Значение второго вектора: \";\n",
        "    cin >> b;\n",
        "    vector <int> vector_first(h);\n",
        "\n",
        "    vector <int> vector_second;\n",
        "    vector_second.reserve(b);\n",
        "    sum = h + b;\n",
        "\n",
        "    if (sum > 9 && sum < 100)\n",
        "        std::cout << \"Сумма элементов является двухзначным числом\";\n",
        "    else\n",
        "        std::cout << \"Сумма элементов не является двухзначным числом\";\n",
        "}"
      ],
      "metadata": {
        "id": "Y6dQJIljQV1P",
        "colab": {
          "base_uri": "https://localhost:8080/",
          "height": 130
        },
        "outputId": "88cf3bf9-9991-40d0-edee-c2c9f0ba0708"
      },
      "execution_count": 6,
      "outputs": [
        {
          "output_type": "error",
          "ename": "SyntaxError",
          "evalue": "ignored",
          "traceback": [
            "\u001b[0;36m  File \u001b[0;32m\"<ipython-input-6-09896ecd6a53>\"\u001b[0;36m, line \u001b[0;32m4\u001b[0m\n\u001b[0;31m    using namespace std;\u001b[0m\n\u001b[0m          ^\u001b[0m\n\u001b[0;31mSyntaxError\u001b[0m\u001b[0;31m:\u001b[0m invalid syntax\n"
          ]
        }
      ]
    },
    {
      "cell_type": "code",
      "source": [],
      "metadata": {
        "id": "HiXnv3MYQV38"
      },
      "execution_count": null,
      "outputs": []
    },
    {
      "cell_type": "code",
      "source": [],
      "metadata": {
        "id": "OAwkvxj7QV6c"
      },
      "execution_count": null,
      "outputs": []
    },
    {
      "cell_type": "code",
      "source": [],
      "metadata": {
        "id": "y2fgNtTBQV8_"
      },
      "execution_count": null,
      "outputs": []
    },
    {
      "cell_type": "code",
      "source": [],
      "metadata": {
        "id": "sVGxzV1lQWAE"
      },
      "execution_count": null,
      "outputs": []
    },
    {
      "cell_type": "code",
      "source": [],
      "metadata": {
        "id": "DbpEaQ06QWC7"
      },
      "execution_count": null,
      "outputs": []
    }
  ]
}